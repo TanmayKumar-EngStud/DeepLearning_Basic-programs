{
  "nbformat": 4,
  "nbformat_minor": 5,
  "metadata": {
    "accelerator": "GPU",
    "colab": {
      "name": "LoadingDataset.ipynb",
      "provenance": [],
      "include_colab_link": true
    },
    "kernelspec": {
      "display_name": "Python 3",
      "language": "python",
      "name": "python3"
    },
    "language_info": {
      "codemirror_mode": {
        "name": "ipython",
        "version": 3
      },
      "file_extension": ".py",
      "mimetype": "text/x-python",
      "name": "python",
      "nbconvert_exporter": "python",
      "pygments_lexer": "ipython3",
      "version": "3.8.5"
    }
  },
  "cells": [
    {
      "cell_type": "markdown",
      "metadata": {
        "id": "view-in-github",
        "colab_type": "text"
      },
      "source": [
        "<a href=\"https://colab.research.google.com/github/TanmayKumar-EngStud/DeepLearning_Basic-programs/blob/main/LoadingDataset.ipynb\" target=\"_parent\"><img src=\"https://colab.research.google.com/assets/colab-badge.svg\" alt=\"Open In Colab\"/></a>"
      ]
    },
    {
      "cell_type": "code",
      "metadata": {
        "colab": {
          "base_uri": "https://localhost:8080/"
        },
        "id": "x3L8GTX3bp5K",
        "outputId": "f52f8e65-eaac-4318-f536-eb6f2236b362"
      },
      "source": [
        "from google.colab import drive\n",
        "drive.mount('/content/drive')"
      ],
      "id": "x3L8GTX3bp5K",
      "execution_count": 1,
      "outputs": [
        {
          "output_type": "stream",
          "text": [
            "Mounted at /content/drive\n"
          ],
          "name": "stdout"
        }
      ]
    },
    {
      "cell_type": "markdown",
      "metadata": {
        "id": "5M4uTPSyPQjY"
      },
      "source": [
        "# Python code for loading and refining Data"
      ],
      "id": "5M4uTPSyPQjY"
    },
    {
      "cell_type": "code",
      "metadata": {
        "colab": {
          "base_uri": "https://localhost:8080/"
        },
        "id": "basic-livestock",
        "outputId": "f4717f83-0c46-402b-8b2a-9671307ff418"
      },
      "source": [
        "import numpy as np\n",
        "import matplotlib.pyplot as plt\n",
        "import os\n",
        "import cv2\n",
        "\n",
        "DataDir = \"/content/drive/MyDrive/newSET\"\n",
        "Category = [\"women\",\"men\"]\n",
        "print('done')"
      ],
      "id": "basic-livestock",
      "execution_count": 2,
      "outputs": [
        {
          "output_type": "stream",
          "text": [
            "done\n"
          ],
          "name": "stdout"
        }
      ]
    },
    {
      "cell_type": "code",
      "metadata": {
        "colab": {
          "base_uri": "https://localhost:8080/"
        },
        "id": "extreme-processing",
        "outputId": "f95f8a3f-a846-44b3-fe26-c607b20de92c"
      },
      "source": [
        "trainingData = []\n",
        "IMG_SIZE = 250\n",
        "def create_Training_Data():\n",
        "    for cat in Category:\n",
        "        path = os.path.join(DataDir, cat)\n",
        "        class_num= Category.index(cat)\n",
        "        for img in os.listdir(path):\n",
        "            try:\n",
        "                img_arr   = cv2.imread(os.path.join(path,img), cv2.IMREAD_GRAYSCALE)\n",
        "                new_array = cv2.resize(img_arr, (IMG_SIZE, IMG_SIZE))\n",
        "                trainingData.append([new_array, class_num])\n",
        "            except Exception as e:\n",
        "                pass\n",
        "create_Training_Data()            \n",
        "print(len(trainingData))\n"
      ],
      "id": "extreme-processing",
      "execution_count": 3,
      "outputs": [
        {
          "output_type": "stream",
          "text": [
            "3262\n"
          ],
          "name": "stdout"
        }
      ]
    },
    {
      "cell_type": "code",
      "metadata": {
        "colab": {
          "base_uri": "https://localhost:8080/"
        },
        "id": "neither-architecture",
        "outputId": "d2e21a91-d818-4a44-bcd7-b3fa1c0341f1"
      },
      "source": [
        "import random \n",
        "random.shuffle(trainingData)\n",
        "\n",
        "X= []\n",
        "y= []\n",
        "for features, label in trainingData:\n",
        "    X.append(features)\n",
        "    y.append(label)\n",
        "\n",
        "\n",
        "X = np.array(X).reshape(-1,IMG_SIZE,IMG_SIZE,1)\n",
        "print('done')"
      ],
      "id": "neither-architecture",
      "execution_count": 4,
      "outputs": [
        {
          "output_type": "stream",
          "text": [
            "done\n"
          ],
          "name": "stdout"
        }
      ]
    },
    {
      "cell_type": "code",
      "metadata": {
        "colab": {
          "base_uri": "https://localhost:8080/"
        },
        "id": "tested-making",
        "outputId": "a9da461c-16f1-4aa3-8e77-13fba5b1e98a"
      },
      "source": [
        "import pickle \n",
        "\n",
        "pickle_out = open(\"X.pickle\",\"wb\")\n",
        "pickle.dump(X,pickle_out)\n",
        "pickle_out.close()\n",
        "\n",
        "pickle_out = open(\"y.pickle\",\"wb\")\n",
        "pickle.dump(y,pickle_out)\n",
        "pickle_out.close()\n",
        "\n",
        "pickle_in = open(\"X.pickle\",\"rb\")\n",
        "X = pickle.load(pickle_in)\n",
        "\n",
        "X = X/255.0\n",
        "print('done')"
      ],
      "id": "tested-making",
      "execution_count": 5,
      "outputs": [
        {
          "output_type": "stream",
          "text": [
            "done\n"
          ],
          "name": "stdout"
        }
      ]
    },
    {
      "cell_type": "markdown",
      "metadata": {
        "id": "LWwBIU1Lh52M"
      },
      "source": [
        "## **Creating the model** \n",
        "\n",
        "\n",
        "```\n",
        "# This the actual code of my Convolution network\n",
        "```\n",
        "\n",
        "\n",
        "---\n",
        "\n",
        "\n",
        "\n"
      ],
      "id": "LWwBIU1Lh52M"
    },
    {
      "cell_type": "code",
      "metadata": {
        "id": "flying-bennett"
      },
      "source": [
        "import tensorflow as tf\n",
        "from tensorflow.keras.models import Sequential\n",
        "from tensorflow.keras.layers import Dense, Activation, Conv2D, Flatten, MaxPooling2D\n",
        "from tensorflow.keras.callbacks import TensorBoard\n",
        "import time"
      ],
      "id": "flying-bennett",
      "execution_count": 6,
      "outputs": []
    },
    {
      "cell_type": "markdown",
      "metadata": {
        "id": "oUWOwbUviqZn"
      },
      "source": [
        "## Once Again calling the X and y value to make it a numpy array"
      ],
      "id": "oUWOwbUviqZn"
    },
    {
      "cell_type": "code",
      "metadata": {
        "colab": {
          "base_uri": "https://localhost:8080/"
        },
        "id": "l7ZEPTU6iz_Q",
        "outputId": "4028cd36-afb3-4858-d20a-94ecb1c20847"
      },
      "source": [
        "X = np.array(X)\n",
        "y =np.array(y)\n",
        "print(X.shape[1:])"
      ],
      "id": "l7ZEPTU6iz_Q",
      "execution_count": 7,
      "outputs": [
        {
          "output_type": "stream",
          "text": [
            "(250, 250, 1)\n"
          ],
          "name": "stdout"
        }
      ]
    },
    {
      "cell_type": "markdown",
      "metadata": {
        "id": "9H-vb4IUkK22"
      },
      "source": [
        "## Building the model\n",
        "---\n",
        "\n",
        "\n",
        "> Defining the function which creates model\n",
        "\n",
        "\n"
      ],
      "id": "9H-vb4IUkK22"
    },
    {
      "cell_type": "code",
      "metadata": {
        "id": "FHuCOWBNGYpV"
      },
      "source": [
        "def createModel(DenseLayer, convLayer,LayerSize):\n",
        "\n",
        "    model= Sequential()\n",
        "    model.add(Conv2D(LayerSize,(3,3),input_shape= (250,250,1)))\n",
        "    model.add(Activation('relu'))\n",
        "    model.add(MaxPooling2D(pool_size= (2,2)))\n",
        "    \n",
        "    for i in range (convLayer -1):\n",
        "      model.add(Conv2D(LayerSize,(3,3)))\n",
        "      model.add(Activation('relu'))\n",
        "      model.add(MaxPooling2D(pool_size= (2,2)))\n",
        "\n",
        "\n",
        "    model.add(Flatten())\n",
        "    for i in range (DenseLayer-1):\n",
        "      model.add(Dense(64))\n",
        "      model.add(Activation('relu'))\n",
        "\n",
        "\n",
        "    model.add(Dense(1))\n",
        "    model.add(Activation('sigmoid'))\n",
        "    return model"
      ],
      "id": "FHuCOWBNGYpV",
      "execution_count": 8,
      "outputs": []
    },
    {
      "cell_type": "markdown",
      "metadata": {
        "id": "y_-ubqHYc3Rn"
      },
      "source": [
        "# I have compared the model designs with one another\n",
        "---\n",
        "\n",
        "\n",
        "*   **Conisdered 4 sets of Dense Layers** (1,2,3,4) \n",
        "*   **Considered 3 sets of Neurons in Each layer**  (32,64,128)\n",
        "*   **Considered 3 sets of convolutional layers**  (2,3,4) \n",
        "***\n",
        "Overall 4x3x3 = 36 Models will be made\n"
      ],
      "id": "y_-ubqHYc3Rn"
    },
    {
      "cell_type": "code",
      "metadata": {
        "id": "9f4dfGwzA_i6"
      },
      "source": [
        "\n",
        "!mkdir -p /content/drive/MyDrive/newSET/saved_model"
      ],
      "id": "9f4dfGwzA_i6",
      "execution_count": 19,
      "outputs": []
    },
    {
      "cell_type": "code",
      "metadata": {
        "colab": {
          "base_uri": "https://localhost:8080/"
        },
        "id": "wG4KVqRGeAV6",
        "outputId": "8d03104c-2c9d-44a3-88b9-7beabcf7d36b"
      },
      "source": [
        "denseLayers = [3,4]\n",
        "layerSizes = [32, 64]\n",
        "convLayers = [2,3]\n",
        "\n",
        "for denseLayer in denseLayers:\n",
        "  for layerSize in layerSizes:\n",
        "    for convLayer in convLayers:\n",
        "      NAME = 'men-x-women-CNN-{}x2-{} -convLayers-{} -denseLayer-{}'.format(layerSize,int(time.time()),convLayer, denseLayer)\n",
        "      tensorboard = TensorBoard(log_dir='/content/drive/MyDrive/newSET/logs/{}'.format(NAME))\n",
        "      model = createModel(denseLayer, convLayer,layerSize)\n",
        "      model.compile(loss ='binary_crossentropy', optimizer ='adam', metrics = ['accuracy'])\n",
        "\n",
        "      checkpoint_dr = os.path.dirname(checkpoint_path)\n",
        "      cp_callback = tf.keras.callbacks.ModelCheckpoint(checkpoint_path, save_weights_only= False, verbose =1)\n",
        "\n",
        "      model.fit(X,y, batch_size = 16, validation_split=0.1, epochs = 5, callbacks = [tensorboard])\n",
        "      model.save('/content/drive/MyDrive/newSET/saved_model/training_{}x2 convLayers-{} -denseLayer-{} time-{}'.format(layerSize,convLayer, denseLayer,int(time.time())))\n",
        "\n"
      ],
      "id": "wG4KVqRGeAV6",
      "execution_count": 20,
      "outputs": [
        {
          "output_type": "stream",
          "text": [
            "Epoch 1/5\n",
            "184/184 [==============================] - 5s 26ms/step - loss: 0.7761 - accuracy: 0.5532 - val_loss: 0.6651 - val_accuracy: 0.6086\n",
            "Epoch 2/5\n",
            "184/184 [==============================] - 4s 22ms/step - loss: 0.6685 - accuracy: 0.5954 - val_loss: 0.6426 - val_accuracy: 0.6300\n",
            "Epoch 3/5\n",
            "184/184 [==============================] - 4s 22ms/step - loss: 0.5635 - accuracy: 0.7231 - val_loss: 0.6784 - val_accuracy: 0.6330\n",
            "Epoch 4/5\n",
            "184/184 [==============================] - 4s 22ms/step - loss: 0.3237 - accuracy: 0.8517 - val_loss: 0.8707 - val_accuracy: 0.6086\n",
            "Epoch 5/5\n",
            "184/184 [==============================] - 4s 22ms/step - loss: 0.1598 - accuracy: 0.9402 - val_loss: 1.5182 - val_accuracy: 0.6422\n",
            "INFO:tensorflow:Assets written to: /content/drive/MyDrive/newSET/saved_model/training_32x2 convLayers-2 -denseLayer-3 time-1618132171/assets\n",
            "Epoch 1/5\n",
            "184/184 [==============================] - 6s 27ms/step - loss: 0.6900 - accuracy: 0.5545 - val_loss: 0.6841 - val_accuracy: 0.5657\n",
            "Epoch 2/5\n",
            "184/184 [==============================] - 4s 22ms/step - loss: 0.6833 - accuracy: 0.5667 - val_loss: 0.6695 - val_accuracy: 0.5994\n",
            "Epoch 3/5\n",
            "184/184 [==============================] - 4s 22ms/step - loss: 0.6725 - accuracy: 0.5848 - val_loss: 0.6833 - val_accuracy: 0.5994\n",
            "Epoch 4/5\n",
            "184/184 [==============================] - 4s 22ms/step - loss: 0.6639 - accuracy: 0.5827 - val_loss: 0.6431 - val_accuracy: 0.6239\n",
            "Epoch 5/5\n",
            "184/184 [==============================] - 4s 22ms/step - loss: 0.5779 - accuracy: 0.6731 - val_loss: 0.6644 - val_accuracy: 0.6269\n",
            "INFO:tensorflow:Assets written to: /content/drive/MyDrive/newSET/saved_model/training_32x2 convLayers-3 -denseLayer-3 time-1618132195/assets\n",
            "Epoch 1/5\n",
            "184/184 [==============================] - 9s 46ms/step - loss: 0.7301 - accuracy: 0.5592 - val_loss: 0.6774 - val_accuracy: 0.5994\n",
            "Epoch 2/5\n",
            "184/184 [==============================] - 8s 41ms/step - loss: 0.6761 - accuracy: 0.5951 - val_loss: 0.6659 - val_accuracy: 0.6177\n",
            "Epoch 3/5\n",
            "184/184 [==============================] - 8s 41ms/step - loss: 0.5485 - accuracy: 0.7277 - val_loss: 0.7327 - val_accuracy: 0.5841\n",
            "Epoch 4/5\n",
            "184/184 [==============================] - 8s 41ms/step - loss: 0.2908 - accuracy: 0.8853 - val_loss: 1.3406 - val_accuracy: 0.5933\n",
            "Epoch 5/5\n",
            "184/184 [==============================] - 8s 41ms/step - loss: 0.1156 - accuracy: 0.9649 - val_loss: 1.9620 - val_accuracy: 0.5994\n",
            "INFO:tensorflow:Assets written to: /content/drive/MyDrive/newSET/saved_model/training_64x2 convLayers-2 -denseLayer-3 time-1618132236/assets\n",
            "Epoch 1/5\n",
            "184/184 [==============================] - 9s 46ms/step - loss: 0.7123 - accuracy: 0.5574 - val_loss: 0.6803 - val_accuracy: 0.5994\n",
            "Epoch 2/5\n",
            "184/184 [==============================] - 8s 41ms/step - loss: 0.6831 - accuracy: 0.5617 - val_loss: 0.6808 - val_accuracy: 0.5719\n",
            "Epoch 3/5\n",
            "184/184 [==============================] - 8s 41ms/step - loss: 0.6631 - accuracy: 0.6050 - val_loss: 0.6540 - val_accuracy: 0.6147\n",
            "Epoch 4/5\n",
            "184/184 [==============================] - 8s 41ms/step - loss: 0.6097 - accuracy: 0.6581 - val_loss: 0.6258 - val_accuracy: 0.6575\n",
            "Epoch 5/5\n",
            "184/184 [==============================] - 8s 41ms/step - loss: 0.4771 - accuracy: 0.7605 - val_loss: 0.6671 - val_accuracy: 0.6514\n",
            "INFO:tensorflow:Assets written to: /content/drive/MyDrive/newSET/saved_model/training_64x2 convLayers-3 -denseLayer-3 time-1618132279/assets\n",
            "Epoch 1/5\n",
            "184/184 [==============================] - 5s 27ms/step - loss: 0.6928 - accuracy: 0.5610 - val_loss: 0.6789 - val_accuracy: 0.6086\n",
            "Epoch 2/5\n",
            "184/184 [==============================] - 4s 22ms/step - loss: 0.6742 - accuracy: 0.5738 - val_loss: 0.6426 - val_accuracy: 0.6239\n",
            "Epoch 3/5\n",
            "184/184 [==============================] - 4s 22ms/step - loss: 0.5844 - accuracy: 0.7025 - val_loss: 0.6693 - val_accuracy: 0.6147\n",
            "Epoch 4/5\n",
            "184/184 [==============================] - 4s 22ms/step - loss: 0.3861 - accuracy: 0.8191 - val_loss: 0.8381 - val_accuracy: 0.5994\n",
            "Epoch 5/5\n",
            "184/184 [==============================] - 4s 22ms/step - loss: 0.1859 - accuracy: 0.9300 - val_loss: 1.3634 - val_accuracy: 0.5596\n",
            "INFO:tensorflow:Assets written to: /content/drive/MyDrive/newSET/saved_model/training_32x2 convLayers-2 -denseLayer-4 time-1618132302/assets\n",
            "Epoch 1/5\n",
            "184/184 [==============================] - 5s 27ms/step - loss: 0.6923 - accuracy: 0.5697 - val_loss: 0.6860 - val_accuracy: 0.5994\n",
            "Epoch 2/5\n",
            "184/184 [==============================] - 4s 23ms/step - loss: 0.6850 - accuracy: 0.5707 - val_loss: 0.6780 - val_accuracy: 0.5994\n",
            "Epoch 3/5\n",
            "184/184 [==============================] - 4s 22ms/step - loss: 0.6796 - accuracy: 0.5813 - val_loss: 0.6774 - val_accuracy: 0.5994\n",
            "Epoch 4/5\n",
            "184/184 [==============================] - 4s 22ms/step - loss: 0.6769 - accuracy: 0.5728 - val_loss: 0.6667 - val_accuracy: 0.6055\n",
            "Epoch 5/5\n",
            "184/184 [==============================] - 4s 22ms/step - loss: 0.6400 - accuracy: 0.6267 - val_loss: 0.6764 - val_accuracy: 0.6055\n",
            "INFO:tensorflow:Assets written to: /content/drive/MyDrive/newSET/saved_model/training_32x2 convLayers-3 -denseLayer-4 time-1618132327/assets\n",
            "Epoch 1/5\n",
            "184/184 [==============================] - 9s 45ms/step - loss: 0.7108 - accuracy: 0.5561 - val_loss: 0.6752 - val_accuracy: 0.5994\n",
            "Epoch 2/5\n",
            "184/184 [==============================] - 8s 41ms/step - loss: 0.6825 - accuracy: 0.5760 - val_loss: 0.6659 - val_accuracy: 0.6086\n",
            "Epoch 3/5\n",
            "184/184 [==============================] - 8s 41ms/step - loss: 0.6477 - accuracy: 0.6253 - val_loss: 0.7073 - val_accuracy: 0.5963\n",
            "Epoch 4/5\n",
            "184/184 [==============================] - 8s 41ms/step - loss: 0.4089 - accuracy: 0.8304 - val_loss: 0.9039 - val_accuracy: 0.5963\n",
            "Epoch 5/5\n",
            "184/184 [==============================] - 8s 41ms/step - loss: 0.1511 - accuracy: 0.9519 - val_loss: 1.5981 - val_accuracy: 0.5627\n",
            "INFO:tensorflow:Assets written to: /content/drive/MyDrive/newSET/saved_model/training_64x2 convLayers-2 -denseLayer-4 time-1618132368/assets\n",
            "Epoch 1/5\n",
            "184/184 [==============================] - 9s 46ms/step - loss: 0.6923 - accuracy: 0.5660 - val_loss: 0.6755 - val_accuracy: 0.5994\n",
            "Epoch 2/5\n",
            "184/184 [==============================] - 8s 41ms/step - loss: 0.6835 - accuracy: 0.5773 - val_loss: 0.6828 - val_accuracy: 0.5566\n",
            "Epoch 3/5\n",
            "184/184 [==============================] - 8s 41ms/step - loss: 0.6827 - accuracy: 0.5724 - val_loss: 0.6532 - val_accuracy: 0.6391\n",
            "Epoch 4/5\n",
            "184/184 [==============================] - 8s 41ms/step - loss: 0.6654 - accuracy: 0.6180 - val_loss: 0.6384 - val_accuracy: 0.6330\n",
            "Epoch 5/5\n",
            "184/184 [==============================] - 8s 41ms/step - loss: 0.5683 - accuracy: 0.7023 - val_loss: 0.6912 - val_accuracy: 0.5872\n",
            "INFO:tensorflow:Assets written to: /content/drive/MyDrive/newSET/saved_model/training_64x2 convLayers-3 -denseLayer-4 time-1618132410/assets\n"
          ],
          "name": "stdout"
        }
      ]
    },
    {
      "cell_type": "code",
      "metadata": {
        "colab": {
          "base_uri": "https://localhost:8080/"
        },
        "id": "i6JJFFgVYRf_",
        "outputId": "36f05ebf-7108-4dce-e5d1-70874ee60152"
      },
      "source": [
        "!tensorboard --logdir /contents/drive/MyDrive/newSET/logs"
      ],
      "id": "i6JJFFgVYRf_",
      "execution_count": 21,
      "outputs": [
        {
          "output_type": "stream",
          "text": [
            "2021-04-11 09:18:29.729893: I tensorflow/stream_executor/platform/default/dso_loader.cc:49] Successfully opened dynamic library libcudart.so.11.0\n",
            "Serving TensorBoard on localhost; to expose to the network, use a proxy or pass --bind_all\n",
            "TensorBoard 2.4.1 at http://localhost:6006/ (Press CTRL+C to quit)\n",
            "^C\n"
          ],
          "name": "stdout"
        }
      ]
    },
    {
      "cell_type": "markdown",
      "metadata": {
        "id": "YJh9JJPWuNVD"
      },
      "source": [
        "#**Saving the model**\n",
        "\n",
        "\n",
        "---\n",
        "by using the technique of checkpoint callback \n",
        "\n"
      ],
      "id": "YJh9JJPWuNVD"
    },
    {
      "cell_type": "markdown",
      "metadata": {
        "id": "3E5VKqlwhhal"
      },
      "source": [
        "## After Comparision we can clearly say that:-\n",
        ">'men-x-women-CNN-32x2-1618119216-convLayers-2-denselayer-3'\n",
        "\n",
        "is the best as compared to others\n",
        "\n",
        "Now we will use this Model to further validate our dataset"
      ],
      "id": "3E5VKqlwhhal"
    },
    {
      "cell_type": "code",
      "metadata": {
        "colab": {
          "base_uri": "https://localhost:8080/",
          "height": 354
        },
        "id": "ApSZOEmesSoE",
        "outputId": "7e37177c-982a-4e9f-85f4-64e92879fa44"
      },
      "source": [
        "model = tf.keras.models.load_model('/contents/drive/MyDrive/newSET/saved_model/training_32x2 convLayers-2 -denseLayer-3 time-1618132171/saved_model.pb')\n",
        "\n",
        "model.fit(X,y, batch_size = 16, validation_split=0.1, epochs =1, callbacks=cp_callback)\n"
      ],
      "id": "ApSZOEmesSoE",
      "execution_count": 25,
      "outputs": [
        {
          "output_type": "error",
          "ename": "OSError",
          "evalue": "ignored",
          "traceback": [
            "\u001b[0;31m---------------------------------------------------------------------------\u001b[0m",
            "\u001b[0;31mOSError\u001b[0m                                   Traceback (most recent call last)",
            "\u001b[0;32m<ipython-input-25-8606c9af78c3>\u001b[0m in \u001b[0;36m<module>\u001b[0;34m()\u001b[0m\n\u001b[0;32m----> 1\u001b[0;31m \u001b[0mmodel\u001b[0m \u001b[0;34m=\u001b[0m \u001b[0mtf\u001b[0m\u001b[0;34m.\u001b[0m\u001b[0mkeras\u001b[0m\u001b[0;34m.\u001b[0m\u001b[0mmodels\u001b[0m\u001b[0;34m.\u001b[0m\u001b[0mload_model\u001b[0m\u001b[0;34m(\u001b[0m\u001b[0;34m'/contents/drive/MyDrive/newSET/saved_model/training_32x2 convLayers-2 -denseLayer-3 time-1618132171/saved_model.pb'\u001b[0m\u001b[0;34m)\u001b[0m\u001b[0;34m\u001b[0m\u001b[0;34m\u001b[0m\u001b[0m\n\u001b[0m\u001b[1;32m      2\u001b[0m \u001b[0;34m\u001b[0m\u001b[0m\n\u001b[1;32m      3\u001b[0m \u001b[0mmodel\u001b[0m\u001b[0;34m.\u001b[0m\u001b[0mfit\u001b[0m\u001b[0;34m(\u001b[0m\u001b[0mX\u001b[0m\u001b[0;34m,\u001b[0m\u001b[0my\u001b[0m\u001b[0;34m,\u001b[0m \u001b[0mbatch_size\u001b[0m \u001b[0;34m=\u001b[0m \u001b[0;36m16\u001b[0m\u001b[0;34m,\u001b[0m \u001b[0mvalidation_split\u001b[0m\u001b[0;34m=\u001b[0m\u001b[0;36m0.1\u001b[0m\u001b[0;34m,\u001b[0m \u001b[0mepochs\u001b[0m \u001b[0;34m=\u001b[0m\u001b[0;36m1\u001b[0m\u001b[0;34m,\u001b[0m \u001b[0mcallbacks\u001b[0m\u001b[0;34m=\u001b[0m\u001b[0mcp_callback\u001b[0m\u001b[0;34m)\u001b[0m\u001b[0;34m\u001b[0m\u001b[0;34m\u001b[0m\u001b[0m\n",
            "\u001b[0;32m/usr/local/lib/python3.7/dist-packages/tensorflow/python/keras/saving/save.py\u001b[0m in \u001b[0;36mload_model\u001b[0;34m(filepath, custom_objects, compile, options)\u001b[0m\n\u001b[1;32m    209\u001b[0m       \u001b[0mfilepath\u001b[0m \u001b[0;34m=\u001b[0m \u001b[0mpath_to_string\u001b[0m\u001b[0;34m(\u001b[0m\u001b[0mfilepath\u001b[0m\u001b[0;34m)\u001b[0m\u001b[0;34m\u001b[0m\u001b[0;34m\u001b[0m\u001b[0m\n\u001b[1;32m    210\u001b[0m       \u001b[0;32mif\u001b[0m \u001b[0misinstance\u001b[0m\u001b[0;34m(\u001b[0m\u001b[0mfilepath\u001b[0m\u001b[0;34m,\u001b[0m \u001b[0msix\u001b[0m\u001b[0;34m.\u001b[0m\u001b[0mstring_types\u001b[0m\u001b[0;34m)\u001b[0m\u001b[0;34m:\u001b[0m\u001b[0;34m\u001b[0m\u001b[0;34m\u001b[0m\u001b[0m\n\u001b[0;32m--> 211\u001b[0;31m         \u001b[0mloader_impl\u001b[0m\u001b[0;34m.\u001b[0m\u001b[0mparse_saved_model\u001b[0m\u001b[0;34m(\u001b[0m\u001b[0mfilepath\u001b[0m\u001b[0;34m)\u001b[0m\u001b[0;34m\u001b[0m\u001b[0;34m\u001b[0m\u001b[0m\n\u001b[0m\u001b[1;32m    212\u001b[0m         \u001b[0;32mreturn\u001b[0m \u001b[0msaved_model_load\u001b[0m\u001b[0;34m.\u001b[0m\u001b[0mload\u001b[0m\u001b[0;34m(\u001b[0m\u001b[0mfilepath\u001b[0m\u001b[0;34m,\u001b[0m \u001b[0mcompile\u001b[0m\u001b[0;34m,\u001b[0m \u001b[0moptions\u001b[0m\u001b[0;34m)\u001b[0m\u001b[0;34m\u001b[0m\u001b[0;34m\u001b[0m\u001b[0m\n\u001b[1;32m    213\u001b[0m \u001b[0;34m\u001b[0m\u001b[0m\n",
            "\u001b[0;32m/usr/local/lib/python3.7/dist-packages/tensorflow/python/saved_model/loader_impl.py\u001b[0m in \u001b[0;36mparse_saved_model\u001b[0;34m(export_dir)\u001b[0m\n\u001b[1;32m    112\u001b[0m                   (export_dir,\n\u001b[1;32m    113\u001b[0m                    \u001b[0mconstants\u001b[0m\u001b[0;34m.\u001b[0m\u001b[0mSAVED_MODEL_FILENAME_PBTXT\u001b[0m\u001b[0;34m,\u001b[0m\u001b[0;34m\u001b[0m\u001b[0;34m\u001b[0m\u001b[0m\n\u001b[0;32m--> 114\u001b[0;31m                    constants.SAVED_MODEL_FILENAME_PB))\n\u001b[0m\u001b[1;32m    115\u001b[0m \u001b[0;34m\u001b[0m\u001b[0m\n\u001b[1;32m    116\u001b[0m \u001b[0;34m\u001b[0m\u001b[0m\n",
            "\u001b[0;31mOSError\u001b[0m: SavedModel file does not exist at: /contents/drive/MyDrive/newSET/saved_model/training_32x2 convLayers-2 -denseLayer-3 time-1618132171/saved_model.pb/{saved_model.pbtxt|saved_model.pb}"
          ]
        }
      ]
    },
    {
      "cell_type": "code",
      "metadata": {
        "colab": {
          "base_uri": "https://localhost:8080/"
        },
        "id": "TogIGYR8vxd6",
        "outputId": "a0bfaa21-3520-492a-ec8f-ca8ebc44a584"
      },
      "source": [
        "!ls {checkpoint_dr}"
      ],
      "id": "TogIGYR8vxd6",
      "execution_count": null,
      "outputs": [
        {
          "output_type": "stream",
          "text": [
            "checkpoint  cp.ckpt.data-00000-of-00001  cp.ckpt.index\n"
          ],
          "name": "stdout"
        }
      ]
    },
    {
      "cell_type": "markdown",
      "metadata": {
        "id": "XiAUYQNqFCJF"
      },
      "source": [
        "# Reloading the previous model\n",
        "---\n",
        "Using that model and testing"
      ],
      "id": "XiAUYQNqFCJF"
    },
    {
      "cell_type": "code",
      "metadata": {
        "colab": {
          "base_uri": "https://localhost:8080/",
          "height": 370
        },
        "id": "KIgFbzbxFSCb",
        "outputId": "964f9718-2c1a-4064-f2ae-a9d62b76fecf"
      },
      "source": [
        "model = tf.keras.models.load_model('/content/drive/MyDrive/newSET/logs/BestModel.model')\n",
        "\n",
        "print('done')\n"
      ],
      "id": "KIgFbzbxFSCb",
      "execution_count": null,
      "outputs": [
        {
          "output_type": "error",
          "ename": "OSError",
          "evalue": "ignored",
          "traceback": [
            "\u001b[0;31m---------------------------------------------------------------------------\u001b[0m",
            "\u001b[0;31mOSError\u001b[0m                                   Traceback (most recent call last)",
            "\u001b[0;32m<ipython-input-50-32bec58157ae>\u001b[0m in \u001b[0;36m<module>\u001b[0;34m()\u001b[0m\n\u001b[1;32m      1\u001b[0m \u001b[0;32mimport\u001b[0m \u001b[0mos\u001b[0m\u001b[0;34m\u001b[0m\u001b[0;34m\u001b[0m\u001b[0m\n\u001b[1;32m      2\u001b[0m \u001b[0mos\u001b[0m\u001b[0;34m.\u001b[0m\u001b[0mchdir\u001b[0m\u001b[0;34m(\u001b[0m\u001b[0;34m'/content/drive/MyDrive/newSET/logs'\u001b[0m\u001b[0;34m)\u001b[0m\u001b[0;34m\u001b[0m\u001b[0;34m\u001b[0m\u001b[0m\n\u001b[0;32m----> 3\u001b[0;31m \u001b[0mmodel\u001b[0m \u001b[0;34m=\u001b[0m \u001b[0mtf\u001b[0m\u001b[0;34m.\u001b[0m\u001b[0mkeras\u001b[0m\u001b[0;34m.\u001b[0m\u001b[0mmodels\u001b[0m\u001b[0;34m.\u001b[0m\u001b[0mload_model\u001b[0m\u001b[0;34m(\u001b[0m\u001b[0;34m'BestModel.model'\u001b[0m\u001b[0;34m)\u001b[0m\u001b[0;34m\u001b[0m\u001b[0;34m\u001b[0m\u001b[0m\n\u001b[0m\u001b[1;32m      4\u001b[0m \u001b[0;34m\u001b[0m\u001b[0m\n\u001b[1;32m      5\u001b[0m \u001b[0mprint\u001b[0m\u001b[0;34m(\u001b[0m\u001b[0;34m'done'\u001b[0m\u001b[0;34m)\u001b[0m\u001b[0;34m\u001b[0m\u001b[0;34m\u001b[0m\u001b[0m\n",
            "\u001b[0;32m/usr/local/lib/python3.7/dist-packages/tensorflow/python/keras/saving/save.py\u001b[0m in \u001b[0;36mload_model\u001b[0;34m(filepath, custom_objects, compile, options)\u001b[0m\n\u001b[1;32m    209\u001b[0m       \u001b[0mfilepath\u001b[0m \u001b[0;34m=\u001b[0m \u001b[0mpath_to_string\u001b[0m\u001b[0;34m(\u001b[0m\u001b[0mfilepath\u001b[0m\u001b[0;34m)\u001b[0m\u001b[0;34m\u001b[0m\u001b[0;34m\u001b[0m\u001b[0m\n\u001b[1;32m    210\u001b[0m       \u001b[0;32mif\u001b[0m \u001b[0misinstance\u001b[0m\u001b[0;34m(\u001b[0m\u001b[0mfilepath\u001b[0m\u001b[0;34m,\u001b[0m \u001b[0msix\u001b[0m\u001b[0;34m.\u001b[0m\u001b[0mstring_types\u001b[0m\u001b[0;34m)\u001b[0m\u001b[0;34m:\u001b[0m\u001b[0;34m\u001b[0m\u001b[0;34m\u001b[0m\u001b[0m\n\u001b[0;32m--> 211\u001b[0;31m         \u001b[0mloader_impl\u001b[0m\u001b[0;34m.\u001b[0m\u001b[0mparse_saved_model\u001b[0m\u001b[0;34m(\u001b[0m\u001b[0mfilepath\u001b[0m\u001b[0;34m)\u001b[0m\u001b[0;34m\u001b[0m\u001b[0;34m\u001b[0m\u001b[0m\n\u001b[0m\u001b[1;32m    212\u001b[0m         \u001b[0;32mreturn\u001b[0m \u001b[0msaved_model_load\u001b[0m\u001b[0;34m.\u001b[0m\u001b[0mload\u001b[0m\u001b[0;34m(\u001b[0m\u001b[0mfilepath\u001b[0m\u001b[0;34m,\u001b[0m \u001b[0mcompile\u001b[0m\u001b[0;34m,\u001b[0m \u001b[0moptions\u001b[0m\u001b[0;34m)\u001b[0m\u001b[0;34m\u001b[0m\u001b[0;34m\u001b[0m\u001b[0m\n\u001b[1;32m    213\u001b[0m \u001b[0;34m\u001b[0m\u001b[0m\n",
            "\u001b[0;32m/usr/local/lib/python3.7/dist-packages/tensorflow/python/saved_model/loader_impl.py\u001b[0m in \u001b[0;36mparse_saved_model\u001b[0;34m(export_dir)\u001b[0m\n\u001b[1;32m    112\u001b[0m                   (export_dir,\n\u001b[1;32m    113\u001b[0m                    \u001b[0mconstants\u001b[0m\u001b[0;34m.\u001b[0m\u001b[0mSAVED_MODEL_FILENAME_PBTXT\u001b[0m\u001b[0;34m,\u001b[0m\u001b[0;34m\u001b[0m\u001b[0;34m\u001b[0m\u001b[0m\n\u001b[0;32m--> 114\u001b[0;31m                    constants.SAVED_MODEL_FILENAME_PB))\n\u001b[0m\u001b[1;32m    115\u001b[0m \u001b[0;34m\u001b[0m\u001b[0m\n\u001b[1;32m    116\u001b[0m \u001b[0;34m\u001b[0m\u001b[0m\n",
            "\u001b[0;31mOSError\u001b[0m: SavedModel file does not exist at: BestModel.model/{saved_model.pbtxt|saved_model.pb}"
          ]
        }
      ]
    },
    {
      "cell_type": "code",
      "metadata": {
        "id": "7-8-LdFUkS2J",
        "colab": {
          "base_uri": "https://localhost:8080/"
        },
        "outputId": "4e1bcebe-6099-4780-b527-970cbf7d7c2b"
      },
      "source": [
        "import cv2\n",
        "import tensorflow as tf\n",
        "\n",
        "\n",
        "Categories = [\"women\",\"men\"]\n",
        "def prepare(filepath):\n",
        "  IMG_SIZE = 250\n",
        "  img_arr   = cv2.imread(filepath, cv2.IMREAD_GRAYSCALE)\n",
        "  new_image = cv2.resize(img_arr, (IMG_SIZE,IMG_SIZE))\n",
        "  #return img_arr.shape\n",
        "  return new_image.reshape(-1,IMG_SIZE,IMG_SIZE,1)\n",
        "\n",
        "prediction = model.predict(prepare(\"/content/drive/MyDrive/newSET/data/women/02 (6).jpg\"))\n",
        "#prediction = prepare(\"/content/drive/MyDrive/newSET/data/men/00001713.jpeg\")\n",
        "\n",
        "print(prediction)"
      ],
      "id": "7-8-LdFUkS2J",
      "execution_count": null,
      "outputs": [
        {
          "output_type": "stream",
          "text": [
            "[[0.]]\n"
          ],
          "name": "stdout"
        }
      ]
    }
  ]
}