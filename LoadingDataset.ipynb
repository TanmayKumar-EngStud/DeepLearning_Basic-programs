{
  "nbformat": 4,
  "nbformat_minor": 5,
  "metadata": {
    "accelerator": "GPU",
    "colab": {
      "name": "LoadingDataset.ipynb",
      "provenance": [],
      "toc_visible": true,
      "include_colab_link": true
    },
    "kernelspec": {
      "display_name": "Python 3",
      "language": "python",
      "name": "python3"
    },
    "language_info": {
      "codemirror_mode": {
        "name": "ipython",
        "version": 3
      },
      "file_extension": ".py",
      "mimetype": "text/x-python",
      "name": "python",
      "nbconvert_exporter": "python",
      "pygments_lexer": "ipython3",
      "version": "3.8.5"
    }
  },
  "cells": [
    {
      "cell_type": "markdown",
      "metadata": {
        "id": "view-in-github",
        "colab_type": "text"
      },
      "source": [
        "<a href=\"https://colab.research.google.com/github/TanmayKumar-EngStud/DeepLearning_Basic-programs/blob/main/LoadingDataset.ipynb\" target=\"_parent\"><img src=\"https://colab.research.google.com/assets/colab-badge.svg\" alt=\"Open In Colab\"/></a>"
      ]
    },
    {
      "cell_type": "code",
      "metadata": {
        "colab": {
          "base_uri": "https://localhost:8080/"
        },
        "id": "x3L8GTX3bp5K",
        "outputId": "b32d97b4-03ca-41da-934d-3055183582bf"
      },
      "source": [
        "from google.colab import drive\n",
        "drive.mount('/content/drive')"
      ],
      "id": "x3L8GTX3bp5K",
      "execution_count": 1,
      "outputs": [
        {
          "output_type": "stream",
          "text": [
            "Mounted at /content/drive\n"
          ],
          "name": "stdout"
        }
      ]
    },
    {
      "cell_type": "markdown",
      "metadata": {
        "id": "5M4uTPSyPQjY"
      },
      "source": [
        "# Python code for loading and refining Data"
      ],
      "id": "5M4uTPSyPQjY"
    },
    {
      "cell_type": "code",
      "metadata": {
        "colab": {
          "base_uri": "https://localhost:8080/"
        },
        "id": "basic-livestock",
        "outputId": "8c220694-f6d8-4420-b59b-e31be4f7b762"
      },
      "source": [
        "import numpy as np\n",
        "import matplotlib.pyplot as plt\n",
        "import os\n",
        "import cv2\n",
        "\n",
        "DataDir = \"/content/drive/MyDrive/newSET\"\n",
        "Category = [\"women\",\"men\"]\n",
        "print('done')"
      ],
      "id": "basic-livestock",
      "execution_count": 2,
      "outputs": [
        {
          "output_type": "stream",
          "text": [
            "done\n"
          ],
          "name": "stdout"
        }
      ]
    },
    {
      "cell_type": "code",
      "metadata": {
        "id": "extreme-processing"
      },
      "source": [
        "trainingData = []\n",
        "IMG_SIZE = 250\n",
        "def create_Training_Data():\n",
        "    for cat in Category:\n",
        "        path = os.path.join(DataDir, cat)\n",
        "        class_num= Category.index(cat)\n",
        "        for img in os.listdir(path):\n",
        "            try:\n",
        "                img_arr   = cv2.imread(os.path.join(path,img), cv2.IMREAD_GRAYSCALE)\n",
        "                new_array = cv2.resize(img_arr, (IMG_SIZE, IMG_SIZE))\n",
        "                trainingData.append([new_array, class_num])\n",
        "            except Exception as e:\n",
        "                pass\n",
        "create_Training_Data()            \n",
        "print(len(trainingData))\n"
      ],
      "id": "extreme-processing",
      "execution_count": null,
      "outputs": []
    },
    {
      "cell_type": "code",
      "metadata": {
        "colab": {
          "base_uri": "https://localhost:8080/"
        },
        "id": "neither-architecture",
        "outputId": "93c94d11-d87a-467f-e302-752b6958b3aa"
      },
      "source": [
        "import random \n",
        "random.shuffle(trainingData)\n",
        "\n",
        "X= []\n",
        "y= []\n",
        "for features, label in trainingData:\n",
        "    X.append(features)\n",
        "    y.append(label)\n",
        "\n",
        "\n",
        "X = np.array(X).reshape(-1,IMG_SIZE,IMG_SIZE,1)\n",
        "print('done')"
      ],
      "id": "neither-architecture",
      "execution_count": 69,
      "outputs": [
        {
          "output_type": "stream",
          "text": [
            "done\n"
          ],
          "name": "stdout"
        }
      ]
    },
    {
      "cell_type": "code",
      "metadata": {
        "colab": {
          "base_uri": "https://localhost:8080/",
          "height": 733
        },
        "id": "tested-making",
        "outputId": "78dd05aa-0dab-4e5d-b344-99d60257e62b"
      },
      "source": [
        "import pickle \n",
        "\n",
        "pickle_out = open(\"X.pickle\",\"wb\")\n",
        "pickle.dump(X,pickle_out)\n",
        "pickle_out.close()\n",
        "\n",
        "pickle_out = open(\"y.pickle\",\"wb\")\n",
        "pickle.dump(y,pickle_out)\n",
        "pickle_out.close()\n",
        "\n",
        "pickle_in = open(\"X.pickle\",\"rb\")\n",
        "X = pickle.load(pickle_in)\n",
        "\n",
        "X = X/255.0\n",
        "print('done')"
      ],
      "id": "tested-making",
      "execution_count": 70,
      "outputs": [
        {
          "output_type": "stream",
          "text": [
            "ERROR:root:Internal Python error in the inspect module.\n",
            "Below is the traceback from this internal error.\n",
            "\n"
          ],
          "name": "stderr"
        },
        {
          "output_type": "stream",
          "text": [
            "Traceback (most recent call last):\n",
            "  File \"/usr/local/lib/python3.7/dist-packages/IPython/core/interactiveshell.py\", line 2882, in run_code\n",
            "    exec(code_obj, self.user_global_ns, self.user_ns)\n",
            "  File \"<ipython-input-70-f093d9bf1cf1>\", line 3, in <module>\n",
            "    pickle_out = open(\"X.pickle\",\"wb\")\n",
            "FileNotFoundError: [Errno 2] No such file or directory: 'X.pickle'\n",
            "\n",
            "During handling of the above exception, another exception occurred:\n",
            "\n",
            "Traceback (most recent call last):\n",
            "  File \"/usr/local/lib/python3.7/dist-packages/IPython/core/interactiveshell.py\", line 1823, in showtraceback\n",
            "    stb = value._render_traceback_()\n",
            "AttributeError: 'FileNotFoundError' object has no attribute '_render_traceback_'\n",
            "\n",
            "During handling of the above exception, another exception occurred:\n",
            "\n",
            "Traceback (most recent call last):\n",
            "  File \"/usr/local/lib/python3.7/dist-packages/IPython/core/ultratb.py\", line 1132, in get_records\n",
            "    return _fixed_getinnerframes(etb, number_of_lines_of_context, tb_offset)\n",
            "  File \"/usr/local/lib/python3.7/dist-packages/IPython/core/ultratb.py\", line 313, in wrapped\n",
            "    return f(*args, **kwargs)\n",
            "  File \"/usr/local/lib/python3.7/dist-packages/IPython/core/ultratb.py\", line 358, in _fixed_getinnerframes\n",
            "    records = fix_frame_records_filenames(inspect.getinnerframes(etb, context))\n",
            "  File \"/usr/lib/python3.7/inspect.py\", line 1502, in getinnerframes\n",
            "    frameinfo = (tb.tb_frame,) + getframeinfo(tb, context)\n",
            "  File \"/usr/lib/python3.7/inspect.py\", line 1460, in getframeinfo\n",
            "    filename = getsourcefile(frame) or getfile(frame)\n",
            "  File \"/usr/lib/python3.7/inspect.py\", line 696, in getsourcefile\n",
            "    if getattr(getmodule(object, filename), '__loader__', None) is not None:\n",
            "  File \"/usr/lib/python3.7/inspect.py\", line 725, in getmodule\n",
            "    file = getabsfile(object, _filename)\n",
            "  File \"/usr/lib/python3.7/inspect.py\", line 709, in getabsfile\n",
            "    return os.path.normcase(os.path.abspath(_filename))\n",
            "  File \"/usr/lib/python3.7/posixpath.py\", line 383, in abspath\n",
            "    cwd = os.getcwd()\n",
            "FileNotFoundError: [Errno 2] No such file or directory\n"
          ],
          "name": "stdout"
        },
        {
          "output_type": "error",
          "ename": "FileNotFoundError",
          "evalue": "ignored",
          "traceback": [
            "\u001b[0;31m---------------------------------------------------------------------------\u001b[0m"
          ]
        }
      ]
    },
    {
      "cell_type": "markdown",
      "metadata": {
        "id": "LWwBIU1Lh52M"
      },
      "source": [
        "## **Creating the model** \n",
        "\n",
        "\n",
        "```\n",
        "# This the actual code of my Convolution network\n",
        "```\n",
        "\n",
        "\n",
        "---\n",
        "\n",
        "\n",
        "\n"
      ],
      "id": "LWwBIU1Lh52M"
    },
    {
      "cell_type": "code",
      "metadata": {
        "id": "flying-bennett"
      },
      "source": [
        "import tensorflow as tf\n",
        "from tensorflow.keras.models import Sequential\n",
        "from tensorflow.keras.layers import Dense, Activation, Conv2D, Flatten, MaxPooling2D\n",
        "from tensorflow.keras.callbacks import TensorBoard\n",
        "import time"
      ],
      "id": "flying-bennett",
      "execution_count": null,
      "outputs": []
    },
    {
      "cell_type": "markdown",
      "metadata": {
        "id": "oUWOwbUviqZn"
      },
      "source": [
        "## Once Again calling the X and y value to make it a numpy array"
      ],
      "id": "oUWOwbUviqZn"
    },
    {
      "cell_type": "code",
      "metadata": {
        "colab": {
          "base_uri": "https://localhost:8080/"
        },
        "id": "l7ZEPTU6iz_Q",
        "outputId": "faa9a40f-5fe4-441f-8ae9-b7d83cea3fa0"
      },
      "source": [
        "X = np.array(X)\n",
        "y =np.array(y)\n",
        "print(X.shape[1:])"
      ],
      "id": "l7ZEPTU6iz_Q",
      "execution_count": null,
      "outputs": [
        {
          "output_type": "stream",
          "text": [
            "(250, 250, 1)\n"
          ],
          "name": "stdout"
        }
      ]
    },
    {
      "cell_type": "markdown",
      "metadata": {
        "id": "9H-vb4IUkK22"
      },
      "source": [
        "## Building the model\n",
        "---\n",
        "\n",
        "\n",
        "> Defining the function which creates model\n",
        "\n",
        "\n"
      ],
      "id": "9H-vb4IUkK22"
    },
    {
      "cell_type": "code",
      "metadata": {
        "id": "FHuCOWBNGYpV"
      },
      "source": [
        "def createModel(DenseLayer, convLayer,LayerSize):\n",
        "\n",
        "    model= Sequential()\n",
        "    model.add(Conv2D(LayerSize,(3,3),input_shape= (250,250,1)))\n",
        "    model.add(Activation('relu'))\n",
        "    model.add(MaxPooling2D(pool_size= (2,2)))\n",
        "    \n",
        "    for i in range (convLayer -1):\n",
        "      model.add(Conv2D(LayerSize,(3,3)))\n",
        "      model.add(Activation('relu'))\n",
        "      model.add(MaxPooling2D(pool_size= (2,2)))\n",
        "\n",
        "\n",
        "    model.add(Flatten())\n",
        "    for i in range (DenseLayer-1):\n",
        "      model.add(Dense(64))\n",
        "      model.add(Activation('relu'))\n",
        "\n",
        "\n",
        "    model.add(Dense(1))\n",
        "    model.add(Activation('sigmoid'))\n",
        "    return model"
      ],
      "id": "FHuCOWBNGYpV",
      "execution_count": null,
      "outputs": []
    },
    {
      "cell_type": "markdown",
      "metadata": {
        "id": "y_-ubqHYc3Rn"
      },
      "source": [
        "# I have compared the model designs with one another\n",
        "---\n",
        "\n",
        "\n",
        "*   **Conisdered 4 sets of Dense Layers** (1,2,3,4) \n",
        "*   **Considered 3 sets of Neurons in Each layer**  (32,64,128)\n",
        "*   **Considered 3 sets of convolutional layers**  (2,3,4) \n",
        "***\n",
        "Overall 4x3x3 = 36 Models will be made\n"
      ],
      "id": "y_-ubqHYc3Rn"
    },
    {
      "cell_type": "code",
      "metadata": {
        "colab": {
          "base_uri": "https://localhost:8080/",
          "height": 1000
        },
        "id": "wG4KVqRGeAV6",
        "outputId": "9d14c2ae-3928-47dd-e1de-1c117ee99316"
      },
      "source": [
        "denseLayers = [3,4]\n",
        "layerSizes = [32, 64]\n",
        "convLayers = [2,3]\n",
        "for denseLayer in denseLayers:\n",
        "  for layerSize in layerSizes:\n",
        "    for convLayer in convLayers:\n",
        "      NAME = 'men-x-women-CNN-{}x2-{} -convLayers-{} -denseLayer-{}'.format(layerSize,int(time.time()),convLayer, denseLayer)\n",
        "      tensorboard = TensorBoard(log_dir='/content/drive/MyDrive/newSET/logs/{}'.format(NAME))\n",
        "      model = createModel(denseLayer, convLayer,layerSize)\n",
        "      model.compile(loss ='binary_crossentropy', optimizer ='adam', metrics = ['accuracy'])\n",
        "      model.fit(X,y, batch_size = 16, validation_split=0.1, epochs = 5, callbacks = [tensorboard])\n",
        "\n"
      ],
      "id": "wG4KVqRGeAV6",
      "execution_count": null,
      "outputs": [
        {
          "output_type": "stream",
          "text": [
            "Epoch 1/5\n",
            "182/184 [============================>.] - ETA: 0s - loss: 0.6965 - accuracy: 0.5524"
          ],
          "name": "stdout"
        },
        {
          "output_type": "stream",
          "text": [
            "ERROR:root:Internal Python error in the inspect module.\n",
            "Below is the traceback from this internal error.\n",
            "\n"
          ],
          "name": "stderr"
        },
        {
          "output_type": "stream",
          "text": [
            "Traceback (most recent call last):\n",
            "  File \"/usr/local/lib/python3.7/dist-packages/IPython/core/interactiveshell.py\", line 2882, in run_code\n",
            "    exec(code_obj, self.user_global_ns, self.user_ns)\n",
            "  File \"<ipython-input-58-06d361e1871f>\", line 11, in <module>\n",
            "    model.fit(X,y, batch_size = 16, validation_split=0.1, epochs = 5, callbacks = [tensorboard])\n",
            "  File \"/usr/local/lib/python3.7/dist-packages/tensorflow/python/keras/engine/training.py\", line 1117, in fit\n",
            "    self._fit_frame = tf_inspect.currentframe()\n",
            "  File \"/usr/local/lib/python3.7/dist-packages/tensorflow/python/keras/utils/tf_inspect.py\", line 95, in currentframe\n",
            "    return _inspect.stack()[1][0]\n",
            "  File \"/usr/lib/python3.7/inspect.py\", line 1513, in stack\n",
            "    return getouterframes(sys._getframe(1), context)\n",
            "  File \"/usr/lib/python3.7/inspect.py\", line 1490, in getouterframes\n",
            "    frameinfo = (frame,) + getframeinfo(frame, context)\n",
            "  File \"/usr/lib/python3.7/inspect.py\", line 1460, in getframeinfo\n",
            "    filename = getsourcefile(frame) or getfile(frame)\n",
            "  File \"/usr/lib/python3.7/inspect.py\", line 696, in getsourcefile\n",
            "    if getattr(getmodule(object, filename), '__loader__', None) is not None:\n",
            "  File \"/usr/lib/python3.7/inspect.py\", line 725, in getmodule\n",
            "    file = getabsfile(object, _filename)\n",
            "  File \"/usr/lib/python3.7/inspect.py\", line 709, in getabsfile\n",
            "    return os.path.normcase(os.path.abspath(_filename))\n",
            "  File \"/usr/lib/python3.7/posixpath.py\", line 383, in abspath\n",
            "    cwd = os.getcwd()\n",
            "FileNotFoundError: [Errno 2] No such file or directory\n",
            "\n",
            "During handling of the above exception, another exception occurred:\n",
            "\n",
            "Traceback (most recent call last):\n",
            "  File \"/usr/local/lib/python3.7/dist-packages/IPython/core/interactiveshell.py\", line 1823, in showtraceback\n",
            "    stb = value._render_traceback_()\n",
            "AttributeError: 'FileNotFoundError' object has no attribute '_render_traceback_'\n",
            "\n",
            "During handling of the above exception, another exception occurred:\n",
            "\n",
            "Traceback (most recent call last):\n",
            "  File \"/usr/local/lib/python3.7/dist-packages/IPython/core/ultratb.py\", line 1132, in get_records\n",
            "    return _fixed_getinnerframes(etb, number_of_lines_of_context, tb_offset)\n",
            "  File \"/usr/local/lib/python3.7/dist-packages/IPython/core/ultratb.py\", line 313, in wrapped\n",
            "    return f(*args, **kwargs)\n",
            "  File \"/usr/local/lib/python3.7/dist-packages/IPython/core/ultratb.py\", line 358, in _fixed_getinnerframes\n",
            "    records = fix_frame_records_filenames(inspect.getinnerframes(etb, context))\n",
            "  File \"/usr/lib/python3.7/inspect.py\", line 1502, in getinnerframes\n",
            "    frameinfo = (tb.tb_frame,) + getframeinfo(tb, context)\n",
            "  File \"/usr/lib/python3.7/inspect.py\", line 1460, in getframeinfo\n",
            "    filename = getsourcefile(frame) or getfile(frame)\n",
            "  File \"/usr/lib/python3.7/inspect.py\", line 696, in getsourcefile\n",
            "    if getattr(getmodule(object, filename), '__loader__', None) is not None:\n",
            "  File \"/usr/lib/python3.7/inspect.py\", line 725, in getmodule\n",
            "    file = getabsfile(object, _filename)\n",
            "  File \"/usr/lib/python3.7/inspect.py\", line 709, in getabsfile\n",
            "    return os.path.normcase(os.path.abspath(_filename))\n",
            "  File \"/usr/lib/python3.7/posixpath.py\", line 383, in abspath\n",
            "    cwd = os.getcwd()\n",
            "FileNotFoundError: [Errno 2] No such file or directory\n"
          ],
          "name": "stdout"
        },
        {
          "output_type": "error",
          "ename": "FileNotFoundError",
          "evalue": "ignored",
          "traceback": [
            "\u001b[0;31m---------------------------------------------------------------------------\u001b[0m"
          ]
        }
      ]
    },
    {
      "cell_type": "code",
      "metadata": {
        "colab": {
          "base_uri": "https://localhost:8080/"
        },
        "id": "i6JJFFgVYRf_",
        "outputId": "3719cf0a-d3ba-4d29-cce2-75041530c87e"
      },
      "source": [
        "!tensorboard --logdir /content/drive/Mydrive/newSET/logs"
      ],
      "id": "i6JJFFgVYRf_",
      "execution_count": null,
      "outputs": [
        {
          "output_type": "stream",
          "text": [
            "2021-04-11 05:59:39.656888: I tensorflow/stream_executor/platform/default/dso_loader.cc:49] Successfully opened dynamic library libcudart.so.11.0\n",
            "Serving TensorBoard on localhost; to expose to the network, use a proxy or pass --bind_all\n",
            "TensorBoard 2.4.1 at http://localhost:6006/ (Press CTRL+C to quit)\n"
          ],
          "name": "stdout"
        }
      ]
    },
    {
      "cell_type": "markdown",
      "metadata": {
        "id": "YJh9JJPWuNVD"
      },
      "source": [
        "#**Saving the model**\n",
        "\n",
        "\n",
        "---\n",
        "by using the technique of checkpoint callback \n",
        "\n"
      ],
      "id": "YJh9JJPWuNVD"
    },
    {
      "cell_type": "markdown",
      "metadata": {
        "id": "3E5VKqlwhhal"
      },
      "source": [
        "## After Comparision we can clearly say that:-\n",
        ">'men-x-women-CNN-32x2-1618119216-convLayers-2-denselayer-3'\n",
        "\n",
        "is the best as compared to others\n",
        "\n",
        "Now we will use this Model to further validate our dataset"
      ],
      "id": "3E5VKqlwhhal"
    },
    {
      "cell_type": "code",
      "metadata": {
        "colab": {
          "base_uri": "https://localhost:8080/"
        },
        "id": "ApSZOEmesSoE",
        "outputId": "7f8771dc-d022-4bfc-ca3c-5fd2f2e5ad42"
      },
      "source": [
        "checkpoint_path = 'training_1/cp.ckpt'\n",
        "checkpoint_dr = os.path.dirname(checkpoint_path)\n",
        "cp_callback = tf.keras.callbacks.ModelCheckpoint(checkpoint_path,\n",
        "                                                 save_weights_only= True,\n",
        "                                                 verbose =1)\n",
        "\n",
        "model.fit(X,y, batch_size = 16, validation_split=0.1, epochs =1, callbacks=cp_callback)\n"
      ],
      "id": "ApSZOEmesSoE",
      "execution_count": null,
      "outputs": [
        {
          "output_type": "stream",
          "text": [
            "184/184 [==============================] - 8s 43ms/step - loss: 0.6852 - accuracy: 0.5639 - val_loss: 0.6628 - val_accuracy: 0.6422\n",
            "\n",
            "Epoch 00001: saving model to training_1/cp.ckpt\n"
          ],
          "name": "stdout"
        },
        {
          "output_type": "execute_result",
          "data": {
            "text/plain": [
              "<tensorflow.python.keras.callbacks.History at 0x7f0435e968d0>"
            ]
          },
          "metadata": {
            "tags": []
          },
          "execution_count": 17
        }
      ]
    },
    {
      "cell_type": "code",
      "metadata": {
        "colab": {
          "base_uri": "https://localhost:8080/"
        },
        "id": "TogIGYR8vxd6",
        "outputId": "a0bfaa21-3520-492a-ec8f-ca8ebc44a584"
      },
      "source": [
        "!ls {checkpoint_dr}"
      ],
      "id": "TogIGYR8vxd6",
      "execution_count": null,
      "outputs": [
        {
          "output_type": "stream",
          "text": [
            "checkpoint  cp.ckpt.data-00000-of-00001  cp.ckpt.index\n"
          ],
          "name": "stdout"
        }
      ]
    },
    {
      "cell_type": "markdown",
      "metadata": {
        "id": "XiAUYQNqFCJF"
      },
      "source": [
        "# Reloading the previous model\n",
        "---\n",
        "Using that model and testing"
      ],
      "id": "XiAUYQNqFCJF"
    },
    {
      "cell_type": "code",
      "metadata": {
        "colab": {
          "base_uri": "https://localhost:8080/",
          "height": 370
        },
        "id": "KIgFbzbxFSCb",
        "outputId": "964f9718-2c1a-4064-f2ae-a9d62b76fecf"
      },
      "source": [
        "model = tf.keras.models.load_model('/content/drive/MyDrive/newSET/logs/BestModel.model')\n",
        "\n",
        "print('done')\n"
      ],
      "id": "KIgFbzbxFSCb",
      "execution_count": null,
      "outputs": [
        {
          "output_type": "error",
          "ename": "OSError",
          "evalue": "ignored",
          "traceback": [
            "\u001b[0;31m---------------------------------------------------------------------------\u001b[0m",
            "\u001b[0;31mOSError\u001b[0m                                   Traceback (most recent call last)",
            "\u001b[0;32m<ipython-input-50-32bec58157ae>\u001b[0m in \u001b[0;36m<module>\u001b[0;34m()\u001b[0m\n\u001b[1;32m      1\u001b[0m \u001b[0;32mimport\u001b[0m \u001b[0mos\u001b[0m\u001b[0;34m\u001b[0m\u001b[0;34m\u001b[0m\u001b[0m\n\u001b[1;32m      2\u001b[0m \u001b[0mos\u001b[0m\u001b[0;34m.\u001b[0m\u001b[0mchdir\u001b[0m\u001b[0;34m(\u001b[0m\u001b[0;34m'/content/drive/MyDrive/newSET/logs'\u001b[0m\u001b[0;34m)\u001b[0m\u001b[0;34m\u001b[0m\u001b[0;34m\u001b[0m\u001b[0m\n\u001b[0;32m----> 3\u001b[0;31m \u001b[0mmodel\u001b[0m \u001b[0;34m=\u001b[0m \u001b[0mtf\u001b[0m\u001b[0;34m.\u001b[0m\u001b[0mkeras\u001b[0m\u001b[0;34m.\u001b[0m\u001b[0mmodels\u001b[0m\u001b[0;34m.\u001b[0m\u001b[0mload_model\u001b[0m\u001b[0;34m(\u001b[0m\u001b[0;34m'BestModel.model'\u001b[0m\u001b[0;34m)\u001b[0m\u001b[0;34m\u001b[0m\u001b[0;34m\u001b[0m\u001b[0m\n\u001b[0m\u001b[1;32m      4\u001b[0m \u001b[0;34m\u001b[0m\u001b[0m\n\u001b[1;32m      5\u001b[0m \u001b[0mprint\u001b[0m\u001b[0;34m(\u001b[0m\u001b[0;34m'done'\u001b[0m\u001b[0;34m)\u001b[0m\u001b[0;34m\u001b[0m\u001b[0;34m\u001b[0m\u001b[0m\n",
            "\u001b[0;32m/usr/local/lib/python3.7/dist-packages/tensorflow/python/keras/saving/save.py\u001b[0m in \u001b[0;36mload_model\u001b[0;34m(filepath, custom_objects, compile, options)\u001b[0m\n\u001b[1;32m    209\u001b[0m       \u001b[0mfilepath\u001b[0m \u001b[0;34m=\u001b[0m \u001b[0mpath_to_string\u001b[0m\u001b[0;34m(\u001b[0m\u001b[0mfilepath\u001b[0m\u001b[0;34m)\u001b[0m\u001b[0;34m\u001b[0m\u001b[0;34m\u001b[0m\u001b[0m\n\u001b[1;32m    210\u001b[0m       \u001b[0;32mif\u001b[0m \u001b[0misinstance\u001b[0m\u001b[0;34m(\u001b[0m\u001b[0mfilepath\u001b[0m\u001b[0;34m,\u001b[0m \u001b[0msix\u001b[0m\u001b[0;34m.\u001b[0m\u001b[0mstring_types\u001b[0m\u001b[0;34m)\u001b[0m\u001b[0;34m:\u001b[0m\u001b[0;34m\u001b[0m\u001b[0;34m\u001b[0m\u001b[0m\n\u001b[0;32m--> 211\u001b[0;31m         \u001b[0mloader_impl\u001b[0m\u001b[0;34m.\u001b[0m\u001b[0mparse_saved_model\u001b[0m\u001b[0;34m(\u001b[0m\u001b[0mfilepath\u001b[0m\u001b[0;34m)\u001b[0m\u001b[0;34m\u001b[0m\u001b[0;34m\u001b[0m\u001b[0m\n\u001b[0m\u001b[1;32m    212\u001b[0m         \u001b[0;32mreturn\u001b[0m \u001b[0msaved_model_load\u001b[0m\u001b[0;34m.\u001b[0m\u001b[0mload\u001b[0m\u001b[0;34m(\u001b[0m\u001b[0mfilepath\u001b[0m\u001b[0;34m,\u001b[0m \u001b[0mcompile\u001b[0m\u001b[0;34m,\u001b[0m \u001b[0moptions\u001b[0m\u001b[0;34m)\u001b[0m\u001b[0;34m\u001b[0m\u001b[0;34m\u001b[0m\u001b[0m\n\u001b[1;32m    213\u001b[0m \u001b[0;34m\u001b[0m\u001b[0m\n",
            "\u001b[0;32m/usr/local/lib/python3.7/dist-packages/tensorflow/python/saved_model/loader_impl.py\u001b[0m in \u001b[0;36mparse_saved_model\u001b[0;34m(export_dir)\u001b[0m\n\u001b[1;32m    112\u001b[0m                   (export_dir,\n\u001b[1;32m    113\u001b[0m                    \u001b[0mconstants\u001b[0m\u001b[0;34m.\u001b[0m\u001b[0mSAVED_MODEL_FILENAME_PBTXT\u001b[0m\u001b[0;34m,\u001b[0m\u001b[0;34m\u001b[0m\u001b[0;34m\u001b[0m\u001b[0m\n\u001b[0;32m--> 114\u001b[0;31m                    constants.SAVED_MODEL_FILENAME_PB))\n\u001b[0m\u001b[1;32m    115\u001b[0m \u001b[0;34m\u001b[0m\u001b[0m\n\u001b[1;32m    116\u001b[0m \u001b[0;34m\u001b[0m\u001b[0m\n",
            "\u001b[0;31mOSError\u001b[0m: SavedModel file does not exist at: BestModel.model/{saved_model.pbtxt|saved_model.pb}"
          ]
        }
      ]
    },
    {
      "cell_type": "code",
      "metadata": {
        "id": "7-8-LdFUkS2J",
        "colab": {
          "base_uri": "https://localhost:8080/"
        },
        "outputId": "4e1bcebe-6099-4780-b527-970cbf7d7c2b"
      },
      "source": [
        "import cv2\n",
        "import tensorflow as tf\n",
        "\n",
        "\n",
        "Categories = [\"women\",\"men\"]\n",
        "def prepare(filepath):\n",
        "  IMG_SIZE = 250\n",
        "  img_arr   = cv2.imread(filepath, cv2.IMREAD_GRAYSCALE)\n",
        "  new_image = cv2.resize(img_arr, (IMG_SIZE,IMG_SIZE))\n",
        "  #return img_arr.shape\n",
        "  return new_image.reshape(-1,IMG_SIZE,IMG_SIZE,1)\n",
        "\n",
        "prediction = model.predict(prepare(\"/content/drive/MyDrive/newSET/data/women/02 (6).jpg\"))\n",
        "#prediction = prepare(\"/content/drive/MyDrive/newSET/data/men/00001713.jpeg\")\n",
        "\n",
        "print(prediction)"
      ],
      "id": "7-8-LdFUkS2J",
      "execution_count": null,
      "outputs": [
        {
          "output_type": "stream",
          "text": [
            "[[0.]]\n"
          ],
          "name": "stdout"
        }
      ]
    }
  ]
}