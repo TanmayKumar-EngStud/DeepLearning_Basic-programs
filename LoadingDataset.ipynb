{
  "nbformat": 4,
  "nbformat_minor": 5,
  "metadata": {
    "kernelspec": {
      "display_name": "Python 3",
      "language": "python",
      "name": "python3"
    },
    "language_info": {
      "codemirror_mode": {
        "name": "ipython",
        "version": 3
      },
      "file_extension": ".py",
      "mimetype": "text/x-python",
      "name": "python",
      "nbconvert_exporter": "python",
      "pygments_lexer": "ipython3",
      "version": "3.8.5"
    },
    "colab": {
      "name": "LoadingDataset.ipynb",
      "provenance": [],
      "include_colab_link": true
    },
    "accelerator": "GPU"
  },
  "cells": [
    {
      "cell_type": "markdown",
      "metadata": {
        "id": "view-in-github",
        "colab_type": "text"
      },
      "source": [
        "<a href=\"https://colab.research.google.com/github/TanmayKumar-EngStud/DeepLearning_Basic-programs/blob/TanmayKumar-EngStud-KerasTuner_Set/LoadingDataset.ipynb\" target=\"_parent\"><img src=\"https://colab.research.google.com/assets/colab-badge.svg\" alt=\"Open In Colab\"/></a>"
      ]
    },
    {
      "cell_type": "code",
      "metadata": {
        "id": "x3L8GTX3bp5K",
        "colab": {
          "base_uri": "https://localhost:8080/"
        },
        "outputId": "4889d254-81bf-4f10-c561-41d7d41fc075"
      },
      "source": [
        "from google.colab import drive\n",
        "drive.mount('/content/drive')"
      ],
      "id": "x3L8GTX3bp5K",
      "execution_count": 1,
      "outputs": [
        {
          "output_type": "stream",
          "text": [
            "Mounted at /content/drive\n"
          ],
          "name": "stdout"
        }
      ]
    },
    {
      "cell_type": "markdown",
      "metadata": {
        "id": "5M4uTPSyPQjY"
      },
      "source": [
        "# Python code for loading and refining Data"
      ],
      "id": "5M4uTPSyPQjY"
    },
    {
      "cell_type": "code",
      "metadata": {
        "id": "basic-livestock"
      },
      "source": [
        "import numpy as np\n",
        "import matplotlib.pyplot as plt\n",
        "import os\n",
        "import cv2\n",
        "\n",
        "DataDir = \"/content/drive/MyDrive/newSET\"\n",
        "Category = [\"women\",\"men\"]"
      ],
      "id": "basic-livestock",
      "execution_count": 7,
      "outputs": []
    },
    {
      "cell_type": "code",
      "metadata": {
        "id": "extreme-processing"
      },
      "source": [
        "trainingData = []\n",
        "IMG_SIZE = 250\n",
        "def create_Training_Data():\n",
        "    for cat in Category:\n",
        "        path = os.path.join(DataDir, cat)\n",
        "        class_num= Category.index(cat)\n",
        "        for img in os.listdir(path):\n",
        "            try:\n",
        "                img_arr   = cv2.imread(os.path.join(path,img), cv2.IMREAD_GRAYSCALE)\n",
        "                new_array = cv2.resize(img_arr, (IMG_SIZE, IMG_SIZE))\n",
        "                trainingData.append([new_array, class_num])\n",
        "            except Exception as e:\n",
        "                pass\n",
        "create_Training_Data()            \n",
        "print(len(trainingData))\n"
      ],
      "id": "extreme-processing",
      "execution_count": null,
      "outputs": []
    },
    {
      "cell_type": "code",
      "metadata": {
        "id": "neither-architecture"
      },
      "source": [
        "import random \n",
        "random.shuffle(trainingData)\n",
        "\n",
        "X= []\n",
        "y= []\n",
        "for features, label in trainingData:\n",
        "    X.append(features)\n",
        "    y.append(label)\n",
        "\n",
        "\n",
        "X = np.array(X).reshape(-1,IMG_SIZE,IMG_SIZE,1)"
      ],
      "id": "neither-architecture",
      "execution_count": null,
      "outputs": []
    },
    {
      "cell_type": "code",
      "metadata": {
        "id": "tested-making"
      },
      "source": [
        "import pickle \n",
        "\n",
        "pickle_out = open(\"X.pickle\",\"wb\")\n",
        "pickle.dump(X,pickle_out)\n",
        "pickle_out.close()\n",
        "\n",
        "pickle_out = open(\"y.pickle\",\"wb\")\n",
        "pickle.dump(y,pickle_out)\n",
        "pickle_out.close()\n",
        "\n",
        "pickle_in = open(\"X.pickle\",\"rb\")\n",
        "X = pickle.load(pickle_in)\n",
        "\n",
        "X = X/255.0\n"
      ],
      "id": "tested-making",
      "execution_count": null,
      "outputs": []
    },
    {
      "cell_type": "code",
      "metadata": {
        "id": "flying-bennett"
      },
      "source": [
        "import tensorflow as tf\n"
      ],
      "id": "flying-bennett",
      "execution_count": null,
      "outputs": []
    }
  ]
}