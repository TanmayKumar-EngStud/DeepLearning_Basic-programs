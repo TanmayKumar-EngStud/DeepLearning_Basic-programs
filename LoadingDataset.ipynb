{
  "nbformat": 4,
  "nbformat_minor": 5,
  "metadata": {
    "accelerator": "GPU",
    "colab": {
      "name": "LoadingDataset.ipynb",
      "provenance": [],
      "toc_visible": true,
      "include_colab_link": true
    },
    "kernelspec": {
      "display_name": "Python 3",
      "language": "python",
      "name": "python3"
    },
    "language_info": {
      "codemirror_mode": {
        "name": "ipython",
        "version": 3
      },
      "file_extension": ".py",
      "mimetype": "text/x-python",
      "name": "python",
      "nbconvert_exporter": "python",
      "pygments_lexer": "ipython3",
      "version": "3.8.5"
    }
  },
  "cells": [
    {
      "cell_type": "markdown",
      "metadata": {
        "id": "view-in-github",
        "colab_type": "text"
      },
      "source": [
        "<a href=\"https://colab.research.google.com/github/TanmayKumar-EngStud/DeepLearning_Basic-programs/blob/main/LoadingDataset.ipynb\" target=\"_parent\"><img src=\"https://colab.research.google.com/assets/colab-badge.svg\" alt=\"Open In Colab\"/></a>"
      ]
    },
    {
      "cell_type": "code",
      "metadata": {
        "colab": {
          "base_uri": "https://localhost:8080/"
        },
        "id": "x3L8GTX3bp5K",
        "outputId": "9ebc2596-35aa-460e-ad8f-36b5193eaf0c"
      },
      "source": [
        "from google.colab import drive\n",
        "drive.mount('/content/drive')"
      ],
      "id": "x3L8GTX3bp5K",
      "execution_count": 27,
      "outputs": [
        {
          "output_type": "stream",
          "text": [
            "Drive already mounted at /content/drive; to attempt to forcibly remount, call drive.mount(\"/content/drive\", force_remount=True).\n"
          ],
          "name": "stdout"
        }
      ]
    },
    {
      "cell_type": "markdown",
      "metadata": {
        "id": "5M4uTPSyPQjY"
      },
      "source": [
        "# Python code for loading and refining Data"
      ],
      "id": "5M4uTPSyPQjY"
    },
    {
      "cell_type": "code",
      "metadata": {
        "colab": {
          "base_uri": "https://localhost:8080/"
        },
        "id": "basic-livestock",
        "outputId": "3865b0f7-60f0-44f9-fdaf-a8447603fb69"
      },
      "source": [
        "import numpy as np\n",
        "import matplotlib.pyplot as plt\n",
        "import os\n",
        "import cv2\n",
        "\n",
        "DataDir = \"/content/drive/MyDrive/newSET\"\n",
        "Category = [\"women\",\"men\"]\n",
        "print('done')"
      ],
      "id": "basic-livestock",
      "execution_count": null,
      "outputs": [
        {
          "output_type": "stream",
          "text": [
            "done\n"
          ],
          "name": "stdout"
        }
      ]
    },
    {
      "cell_type": "code",
      "metadata": {
        "colab": {
          "base_uri": "https://localhost:8080/"
        },
        "id": "extreme-processing",
        "outputId": "d81e0e28-ff79-44b5-f32b-61e59ab03d22"
      },
      "source": [
        "trainingData = []\n",
        "IMG_SIZE = 250\n",
        "def create_Training_Data():\n",
        "    for cat in Category:\n",
        "        path = os.path.join(DataDir, cat)\n",
        "        class_num= Category.index(cat)\n",
        "        for img in os.listdir(path):\n",
        "            try:\n",
        "                img_arr   = cv2.imread(os.path.join(path,img), cv2.IMREAD_GRAYSCALE)\n",
        "                new_array = cv2.resize(img_arr, (IMG_SIZE, IMG_SIZE))\n",
        "                trainingData.append([new_array, class_num])\n",
        "            except Exception as e:\n",
        "                pass\n",
        "create_Training_Data()            \n",
        "print(len(trainingData))\n"
      ],
      "id": "extreme-processing",
      "execution_count": null,
      "outputs": [
        {
          "output_type": "stream",
          "text": [
            "3262\n"
          ],
          "name": "stdout"
        }
      ]
    },
    {
      "cell_type": "code",
      "metadata": {
        "colab": {
          "base_uri": "https://localhost:8080/"
        },
        "id": "neither-architecture",
        "outputId": "9c0cfd39-3772-4020-b5f7-8e316c101a97"
      },
      "source": [
        "import random \n",
        "random.shuffle(trainingData)\n",
        "\n",
        "X= []\n",
        "y= []\n",
        "for features, label in trainingData:\n",
        "    X.append(features)\n",
        "    y.append(label)\n",
        "\n",
        "\n",
        "X = np.array(X).reshape(-1,IMG_SIZE,IMG_SIZE,1)\n",
        "print('done')"
      ],
      "id": "neither-architecture",
      "execution_count": null,
      "outputs": [
        {
          "output_type": "stream",
          "text": [
            "done\n"
          ],
          "name": "stdout"
        }
      ]
    },
    {
      "cell_type": "code",
      "metadata": {
        "colab": {
          "base_uri": "https://localhost:8080/"
        },
        "id": "tested-making",
        "outputId": "05d06891-ee99-4640-95c2-a27bd6b0ed5e"
      },
      "source": [
        "import pickle \n",
        "\n",
        "pickle_out = open(\"X.pickle\",\"wb\")\n",
        "pickle.dump(X,pickle_out)\n",
        "pickle_out.close()\n",
        "\n",
        "pickle_out = open(\"y.pickle\",\"wb\")\n",
        "pickle.dump(y,pickle_out)\n",
        "pickle_out.close()\n",
        "\n",
        "pickle_in = open(\"X.pickle\",\"rb\")\n",
        "X = pickle.load(pickle_in)\n",
        "\n",
        "X = X/255.0\n",
        "print('done')"
      ],
      "id": "tested-making",
      "execution_count": null,
      "outputs": [
        {
          "output_type": "stream",
          "text": [
            "done\n"
          ],
          "name": "stdout"
        }
      ]
    },
    {
      "cell_type": "markdown",
      "metadata": {
        "id": "LWwBIU1Lh52M"
      },
      "source": [
        "## **Creating the model** \n",
        "\n",
        "\n",
        "```\n",
        "# This the actual code of my Convolution network\n",
        "```\n",
        "\n",
        "\n",
        "---\n",
        "\n",
        "\n",
        "\n"
      ],
      "id": "LWwBIU1Lh52M"
    },
    {
      "cell_type": "code",
      "metadata": {
        "id": "flying-bennett"
      },
      "source": [
        "import tensorflow as tf\n",
        "from tensorflow.keras.models import Sequential\n",
        "from tensorflow.keras.layers import Dense, Activation, Conv2D, Flatten, MaxPooling2D"
      ],
      "id": "flying-bennett",
      "execution_count": null,
      "outputs": []
    },
    {
      "cell_type": "markdown",
      "metadata": {
        "id": "oUWOwbUviqZn"
      },
      "source": [
        "## Once Again calling the X and y value to make it a numpy array"
      ],
      "id": "oUWOwbUviqZn"
    },
    {
      "cell_type": "code",
      "metadata": {
        "colab": {
          "base_uri": "https://localhost:8080/"
        },
        "id": "l7ZEPTU6iz_Q",
        "outputId": "3c10fc72-ae72-40fb-e538-3d4f1169c9b6"
      },
      "source": [
        "X = np.array(X)\n",
        "y =np.array(y)\n",
        "print(X.shape[1:])"
      ],
      "id": "l7ZEPTU6iz_Q",
      "execution_count": null,
      "outputs": [
        {
          "output_type": "stream",
          "text": [
            "(250, 250, 1)\n"
          ],
          "name": "stdout"
        }
      ]
    },
    {
      "cell_type": "markdown",
      "metadata": {
        "id": "9H-vb4IUkK22"
      },
      "source": [
        "## Building the model\n",
        "---\n",
        "-\n",
        "\n",
        "> Defining the function which creates model\n",
        "\n",
        "\n"
      ],
      "id": "9H-vb4IUkK22"
    },
    {
      "cell_type": "code",
      "metadata": {
        "id": "FHuCOWBNGYpV"
      },
      "source": [
        "def createModel():\n",
        "    model= Sequential()\n",
        "    model.add(Conv2D(64,(3,3),input_shape= (250,250,1)))\n",
        "    model.add(Activation('relu'))\n",
        "    model.add(MaxPooling2D(pool_size= (2,2)))\n",
        "\n",
        "    model.add(Conv2D(64,(3,3)))\n",
        "    model.add(Activation('relu'))\n",
        "    model.add(MaxPooling2D(pool_size= (2,2)))\n",
        "\n",
        "    model.add(Conv2D(64,(3,3)))\n",
        "    model.add(Activation('relu'))\n",
        "    model.add(MaxPooling2D(pool_size= (2,2)))\n",
        "\n",
        "    model.add(Flatten())\n",
        "    model.add(Dense(64))\n",
        "\n",
        "\n",
        "    model.add(Dense(1))\n",
        "    model.add(Activation('sigmoid'))\n",
        "    return model"
      ],
      "id": "FHuCOWBNGYpV",
      "execution_count": null,
      "outputs": []
    },
    {
      "cell_type": "code",
      "metadata": {
        "colab": {
          "background_save": true,
          "base_uri": "https://localhost:8080/"
        },
        "id": "wG4KVqRGeAV6",
        "outputId": "123fbc34-633d-4a13-a820-5e76cc1586bc"
      },
      "source": [
        "model = createModel()\n",
        "\n",
        "model.compile(loss ='binary_crossentropy', optimizer ='adam', metrics = ['accuracy'])\n",
        "model.fit(X,y, batch_size = 16, validation_split=0.1, epochs = 5)"
      ],
      "id": "wG4KVqRGeAV6",
      "execution_count": null,
      "outputs": [
        {
          "output_type": "stream",
          "text": [
            "Epoch 1/5\n",
            "184/184 [==============================] - 46s 88ms/step - loss: 0.8998 - accuracy: 0.5408 - val_loss: 0.6698 - val_accuracy: 0.6208\n",
            "Epoch 2/5\n",
            "184/184 [==============================] - 15s 83ms/step - loss: 0.6694 - accuracy: 0.5881 - val_loss: 0.6919 - val_accuracy: 0.5933\n",
            "Epoch 3/5\n",
            "184/184 [==============================] - 15s 83ms/step - loss: 0.6063 - accuracy: 0.6754 - val_loss: 0.6762 - val_accuracy: 0.6208\n",
            "Epoch 4/5\n",
            "184/184 [==============================] - 15s 83ms/step - loss: 0.5007 - accuracy: 0.7502 - val_loss: 0.7588 - val_accuracy: 0.6330\n",
            "Epoch 5/5\n",
            "184/184 [==============================] - 15s 83ms/step - loss: 0.3987 - accuracy: 0.8166 - val_loss: 0.8175 - val_accuracy: 0.6177\n"
          ],
          "name": "stdout"
        },
        {
          "output_type": "execute_result",
          "data": {
            "text/plain": [
              "<tensorflow.python.keras.callbacks.History at 0x7f4d7b6c0350>"
            ]
          },
          "metadata": {
            "tags": []
          },
          "execution_count": 0
        }
      ]
    },
    {
      "cell_type": "markdown",
      "metadata": {
        "id": "YJh9JJPWuNVD"
      },
      "source": [
        "#**Saving the model**\n",
        "\n",
        "\n",
        "---\n",
        "by using the technique of checkpoint callback \n",
        "\n"
      ],
      "id": "YJh9JJPWuNVD"
    },
    {
      "cell_type": "code",
      "metadata": {
        "colab": {
          "base_uri": "https://localhost:8080/"
        },
        "id": "ApSZOEmesSoE",
        "outputId": "8e3848d5-a10c-419b-9568-8cb98bbcbec4"
      },
      "source": [
        "checkpoint_path = 'training_1/cp.ckpt'\n",
        "checkpoint_dr = os.path.dirname(checkpoint_path)\n",
        "cp_callback = tf.keras.callbacks.ModelCheckpoint(checkpoint_path,\n",
        "                                                 save_weights_only= True,\n",
        "                                                 verbose =1)\n",
        "\n",
        "model.fit(X,y, batch_size = 16, validation_split=0.1, epochs =1, callbacks=cp_callback)"
      ],
      "id": "ApSZOEmesSoE",
      "execution_count": 28,
      "outputs": [
        {
          "output_type": "stream",
          "text": [
            "184/184 [==============================] - 16s 85ms/step - loss: 0.3087 - accuracy: 0.8658 - val_loss: 1.1971 - val_accuracy: 0.6177\n",
            "\n",
            "Epoch 00001: saving model to training_1/cp.ckpt\n"
          ],
          "name": "stdout"
        },
        {
          "output_type": "execute_result",
          "data": {
            "text/plain": [
              "<tensorflow.python.keras.callbacks.History at 0x7f4d14c32f10>"
            ]
          },
          "metadata": {
            "tags": []
          },
          "execution_count": 28
        }
      ]
    },
    {
      "cell_type": "code",
      "metadata": {
        "colab": {
          "base_uri": "https://localhost:8080/"
        },
        "id": "TogIGYR8vxd6",
        "outputId": "a0bfaa21-3520-492a-ec8f-ca8ebc44a584"
      },
      "source": [
        "!ls {checkpoint_dr}"
      ],
      "id": "TogIGYR8vxd6",
      "execution_count": null,
      "outputs": [
        {
          "output_type": "stream",
          "text": [
            "checkpoint  cp.ckpt.data-00000-of-00001  cp.ckpt.index\n"
          ],
          "name": "stdout"
        }
      ]
    },
    {
      "cell_type": "markdown",
      "metadata": {
        "id": "XiAUYQNqFCJF"
      },
      "source": [
        "# Reloading the previous model\n",
        "---\n",
        "Using that model and testing"
      ],
      "id": "XiAUYQNqFCJF"
    },
    {
      "cell_type": "code",
      "metadata": {
        "colab": {
          "base_uri": "https://localhost:8080/"
        },
        "id": "KIgFbzbxFSCb",
        "outputId": "4c6330e3-ddc7-41d8-d894-0981de317cdf"
      },
      "source": [
        "model = createModel()\n",
        "model.load_weights('training_1/cp.ckpt')\n",
        "print('done')\n"
      ],
      "id": "KIgFbzbxFSCb",
      "execution_count": 29,
      "outputs": [
        {
          "output_type": "stream",
          "text": [
            "done\n"
          ],
          "name": "stdout"
        }
      ]
    }
  ]
}