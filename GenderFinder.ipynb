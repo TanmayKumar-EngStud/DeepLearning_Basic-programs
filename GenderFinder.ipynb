{
  "nbformat": 4,
  "nbformat_minor": 5,
  "metadata": {
    "colab": {
      "name": "LoadingDataset.ipynb",
      "provenance": [],
      "include_colab_link": true
    },
    "kernelspec": {
      "display_name": "Python 3",
      "language": "python",
      "name": "python3"
    },
    "language_info": {
      "codemirror_mode": {
        "name": "ipython",
        "version": 3
      },
      "file_extension": ".py",
      "mimetype": "text/x-python",
      "name": "python",
      "nbconvert_exporter": "python",
      "pygments_lexer": "ipython3",
      "version": "3.8.5"
    }
  },
  "cells": [
    {
      "cell_type": "markdown",
      "metadata": {
        "id": "view-in-github",
        "colab_type": "text"
      },
      "source": [
        "<a href=\"https://colab.research.google.com/github/TanmayKumar-EngStud/DeepLearning_Basic-programs/blob/main/GenderFinder.ipynb\" target=\"_parent\"><img src=\"https://colab.research.google.com/assets/colab-badge.svg\" alt=\"Open In Colab\"/></a>"
      ]
    },
    {
      "cell_type": "code",
      "metadata": {
        "colab": {
          "base_uri": "https://localhost:8080/"
        },
        "id": "x3L8GTX3bp5K",
        "outputId": "33cf4121-0d89-4508-f7e9-4062e4656e31"
      },
      "source": [
        "from google.colab import drive\n",
        "drive.mount('/content/drive')"
      ],
      "id": "x3L8GTX3bp5K",
      "execution_count": null,
      "outputs": [
        {
          "output_type": "stream",
          "text": [
            "Mounted at /content/drive\n"
          ],
          "name": "stdout"
        }
      ]
    },
    {
      "cell_type": "markdown",
      "metadata": {
        "id": "5M4uTPSyPQjY"
      },
      "source": [
        "# Python code for loading and refining Data"
      ],
      "id": "5M4uTPSyPQjY"
    },
    {
      "cell_type": "code",
      "metadata": {
        "colab": {
          "base_uri": "https://localhost:8080/"
        },
        "id": "basic-livestock",
        "outputId": "5ec6b293-4345-455b-bba1-b6d1e193e86e"
      },
      "source": [
        "import numpy as np\n",
        "import matplotlib.pyplot as plt\n",
        "import os\n",
        "import cv2\n",
        "\n",
        "DataDir = \"/content/drive/MyDrive/newSET\"\n",
        "Category = [\"women\",\"men\"]\n",
        "print('done')"
      ],
      "id": "basic-livestock",
      "execution_count": 23,
      "outputs": [
        {
          "output_type": "stream",
          "text": [
            "done\n"
          ],
          "name": "stdout"
        }
      ]
    },
    {
      "cell_type": "code",
      "metadata": {
        "colab": {
          "base_uri": "https://localhost:8080/"
        },
        "id": "extreme-processing",
        "outputId": "15f64a9a-db18-4c50-a69e-1b14b856b3df"
      },
      "source": [
        "trainingData = []\n",
        "IMG_SIZE = 250\n",
        "def create_Training_Data():\n",
        "    for cat in Category:\n",
        "        path = os.path.join(DataDir, cat)\n",
        "        class_num= Category.index(cat)\n",
        "        for img in os.listdir(path):\n",
        "            try:\n",
        "                img_arr   = cv2.imread(os.path.join(path,img), cv2.IMREAD_GRAYSCALE)\n",
        "                new_array = cv2.resize(img_arr, (IMG_SIZE, IMG_SIZE))\n",
        "                trainingData.append([new_array, class_num])\n",
        "            except Exception as e:\n",
        "                pass\n",
        "create_Training_Data()            \n",
        "print(len(trainingData))\n"
      ],
      "id": "extreme-processing",
      "execution_count": 24,
      "outputs": [
        {
          "output_type": "stream",
          "text": [
            "3262\n"
          ],
          "name": "stdout"
        }
      ]
    },
    {
      "cell_type": "code",
      "metadata": {
        "id": "neither-architecture",
        "colab": {
          "base_uri": "https://localhost:8080/"
        },
        "outputId": "d2908046-289d-4dfc-c213-90b0fed26037"
      },
      "source": [
        "import random \n",
        "random.shuffle(trainingData)\n",
        "\n",
        "X= []\n",
        "y= []\n",
        "for features, label in trainingData:\n",
        "    X.append(features)\n",
        "    y.append(label)\n",
        "\n",
        "\n",
        "X = np.array(X).reshape(-1,IMG_SIZE,IMG_SIZE,1)\n",
        "print('done')"
      ],
      "id": "neither-architecture",
      "execution_count": 25,
      "outputs": [
        {
          "output_type": "stream",
          "text": [
            "done\n"
          ],
          "name": "stdout"
        }
      ]
    },
    {
      "cell_type": "code",
      "metadata": {
        "id": "tested-making",
        "colab": {
          "base_uri": "https://localhost:8080/"
        },
        "outputId": "04cfd15d-f4a9-49b8-a96c-06a62d546a9b"
      },
      "source": [
        "import pickle \n",
        "\n",
        "pickle_out = open(\"X.pickle\",\"wb\")\n",
        "pickle.dump(X,pickle_out)\n",
        "pickle_out.close()\n",
        "\n",
        "pickle_out = open(\"y.pickle\",\"wb\")\n",
        "pickle.dump(y,pickle_out)\n",
        "pickle_out.close()\n",
        "\n",
        "pickle_in = open(\"X.pickle\",\"rb\")\n",
        "X = pickle.load(pickle_in)\n",
        "\n",
        "X = X/255.0\n",
        "print('done')"
      ],
      "id": "tested-making",
      "execution_count": 26,
      "outputs": [
        {
          "output_type": "stream",
          "text": [
            "done\n"
          ],
          "name": "stdout"
        }
      ]
    },
    {
      "cell_type": "markdown",
      "metadata": {
        "id": "LWwBIU1Lh52M"
      },
      "source": [
        "## **Creating the model** \n",
        "\n",
        "\n",
        "```\n",
        "# This the actual code of my Convolution network\n",
        "```\n",
        "\n",
        "\n",
        "---\n",
        "\n",
        "\n",
        "\n"
      ],
      "id": "LWwBIU1Lh52M"
    },
    {
      "cell_type": "code",
      "metadata": {
        "id": "flying-bennett"
      },
      "source": [
        "import tensorflow as tf\n",
        "from tensorflow.keras.models import Sequential\n",
        "from tensorflow.keras.layers import Dense, Activation, Conv2D, Flatten, MaxPooling2D"
      ],
      "id": "flying-bennett",
      "execution_count": 27,
      "outputs": []
    },
    {
      "cell_type": "markdown",
      "metadata": {
        "id": "oUWOwbUviqZn"
      },
      "source": [
        "## Once Again calling the X and y value to make it a numpy array"
      ],
      "id": "oUWOwbUviqZn"
    },
    {
      "cell_type": "code",
      "metadata": {
        "id": "l7ZEPTU6iz_Q"
      },
      "source": [
        "X = np.array(X)\n",
        "y =np.array(y)"
      ],
      "id": "l7ZEPTU6iz_Q",
      "execution_count": 29,
      "outputs": []
    },
    {
      "cell_type": "markdown",
      "metadata": {
        "id": "9H-vb4IUkK22"
      },
      "source": [
        "## Building the model"
      ],
      "id": "9H-vb4IUkK22"
    },
    {
      "cell_type": "code",
      "metadata": {
        "colab": {
          "base_uri": "https://localhost:8080/"
        },
        "id": "wG4KVqRGeAV6",
        "outputId": "99ffcffe-50ca-4a73-b77a-43814bfddfdc"
      },
      "source": [
        "model= Sequential()\n",
        "model.add(Conv2D(64,(3,3),input_shape= X.shape[1:]))\n",
        "model.add(Activation('relu'))\n",
        "model.add(MaxPooling2D(pool_size= (2,2)))\n",
        "\n",
        "model.add(Conv2D(64,(3,3)))\n",
        "model.add(Activation('relu'))\n",
        "model.add(MaxPooling2D(pool_size= (2,2)))\n",
        "\n",
        "model.add(Conv2D(64,(3,3)))\n",
        "model.add(Activation('relu'))\n",
        "model.add(MaxPooling2D(pool_size= (2,2)))\n",
        "\n",
        "model.add(Flatten())\n",
        "model.add(Dense(64))\n",
        "\n",
        "\n",
        "model.add(Dense(1))\n",
        "model.add(Activation('sigmoid'))\n",
        "\n",
        "model.compile(loss ='binary_crossentropy', optimizer ='adam', metrics = ['accuracy'])\n",
        "model.fit(X,y, batch_size = 16, validation_split=0.1, epochs = 5)"
      ],
      "id": "wG4KVqRGeAV6",
      "execution_count": 30,
      "outputs": [
        {
          "output_type": "stream",
          "text": [
            "Epoch 1/5\n",
            "184/184 [==============================] - 433s 2s/step - loss: 0.7925 - accuracy: 0.5691 - val_loss: 0.6926 - val_accuracy: 0.5474\n",
            "Epoch 2/5\n",
            "184/184 [==============================] - 429s 2s/step - loss: 0.6694 - accuracy: 0.6112 - val_loss: 0.6856 - val_accuracy: 0.5321\n",
            "Epoch 3/5\n",
            "184/184 [==============================] - 427s 2s/step - loss: 0.6583 - accuracy: 0.6166 - val_loss: 0.6894 - val_accuracy: 0.5780\n",
            "Epoch 4/5\n",
            "184/184 [==============================] - 426s 2s/step - loss: 0.5804 - accuracy: 0.6937 - val_loss: 0.6700 - val_accuracy: 0.6300\n",
            "Epoch 5/5\n",
            "184/184 [==============================] - 421s 2s/step - loss: 0.4644 - accuracy: 0.7878 - val_loss: 0.7583 - val_accuracy: 0.6422\n"
          ],
          "name": "stdout"
        },
        {
          "output_type": "execute_result",
          "data": {
            "text/plain": [
              "<tensorflow.python.keras.callbacks.History at 0x7f539487c690>"
            ]
          },
          "metadata": {
            "tags": []
          },
          "execution_count": 30
        }
      ]
    },
    {
      "cell_type": "markdown",
      "metadata": {
        "id": "YJh9JJPWuNVD"
      },
      "source": [
        "#**Saving the model**\n",
        "\n",
        "\n",
        "---\n",
        "by using the technique of checkpoint callback \n",
        "\n"
      ],
      "id": "YJh9JJPWuNVD"
    },
    {
      "cell_type": "code",
      "metadata": {
        "colab": {
          "base_uri": "https://localhost:8080/"
        },
        "id": "ApSZOEmesSoE",
        "outputId": "c7314eaa-5476-4a96-f243-70e3ffa21523"
      },
      "source": [
        "checkpoint_path = 'training_1/cp.ckpt'\n",
        "checkpoint_dr = os.path.dirname(checkpoint_path)\n",
        "cp_callback = tf.keras.callbacks.ModelCheckpoint(checkpoint_path,\n",
        "                                                 save_weights_only= True,\n",
        "                                                 verbose =1)\n",
        "\n",
        "model.fit(X,y, batch_size = 16, validation_split=0.1, epochs =1, callbacks=cp_callback)"
      ],
      "id": "ApSZOEmesSoE",
      "execution_count": 31,
      "outputs": [
        {
          "output_type": "stream",
          "text": [
            "184/184 [==============================] - 426s 2s/step - loss: 0.3729 - accuracy: 0.8330 - val_loss: 0.9543 - val_accuracy: 0.6269\n",
            "\n",
            "Epoch 00001: saving model to training_1/cp.ckpt\n"
          ],
          "name": "stdout"
        },
        {
          "output_type": "execute_result",
          "data": {
            "text/plain": [
              "<tensorflow.python.keras.callbacks.History at 0x7f5391089e10>"
            ]
          },
          "metadata": {
            "tags": []
          },
          "execution_count": 31
        }
      ]
    },
    {
      "cell_type": "code",
      "metadata": {
        "colab": {
          "base_uri": "https://localhost:8080/"
        },
        "id": "TogIGYR8vxd6",
        "outputId": "a0bfaa21-3520-492a-ec8f-ca8ebc44a584"
      },
      "source": [
        "!ls {checkpoint_dr}"
      ],
      "id": "TogIGYR8vxd6",
      "execution_count": 32,
      "outputs": [
        {
          "output_type": "stream",
          "text": [
            "checkpoint  cp.ckpt.data-00000-of-00001  cp.ckpt.index\n"
          ],
          "name": "stdout"
        }
      ]
    }
  ]
}